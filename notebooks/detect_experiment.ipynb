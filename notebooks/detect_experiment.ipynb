{
 "cells": [
  {
   "metadata": {},
   "cell_type": "markdown",
   "source": "# Import Libraries:",
   "id": "6b95daae3b3875cf"
  },
  {
   "cell_type": "code",
   "id": "initial_id",
   "metadata": {
    "collapsed": true,
    "ExecuteTime": {
     "end_time": "2025-04-24T10:44:19.010498Z",
     "start_time": "2025-04-24T10:44:19.004403Z"
    }
   },
   "source": [
    "import cv2\n",
    "import os\n",
    "import yolov5\n",
    "import torch\n",
    "import requests\n",
    "import sys"
   ],
   "outputs": [],
   "execution_count": 318
  },
  {
   "metadata": {},
   "cell_type": "markdown",
   "source": "# Config Camera:",
   "id": "fe5c76278e5c885"
  },
  {
   "metadata": {
    "ExecuteTime": {
     "end_time": "2025-04-24T10:44:19.966162Z",
     "start_time": "2025-04-24T10:44:19.030085Z"
    }
   },
   "cell_type": "code",
   "source": [
    "capture_camera = cv2.VideoCapture(0, cv2.CAP_DSHOW)\n",
    "ret, frame = capture_camera.read()\n",
    "capture_camera.release()\n",
    "frame_rgb = cv2.cvtColor(frame, cv2.COLOR_BGR2RGB)"
   ],
   "id": "e47af6f1b5c80a0f",
   "outputs": [],
   "execution_count": 319
  },
  {
   "metadata": {},
   "cell_type": "markdown",
   "source": "# Save Photo:",
   "id": "46888001138c6e9"
  },
  {
   "metadata": {
    "ExecuteTime": {
     "end_time": "2025-04-24T10:44:19.994644Z",
     "start_time": "2025-04-24T10:44:19.982488Z"
    }
   },
   "cell_type": "code",
   "source": [
    "filename = 'frame_test.jpg'\n",
    "folder = '../data/input'\n",
    "\n",
    "os.makedirs(folder, exist_ok=True)\n",
    "path = os.path.join(folder, filename)\n",
    "ok = cv2.imwrite(path, frame)\n",
    "\n",
    "\n",
    "if ok:\n",
    "        print(f\"✅ Imagine being saved in: {path}\")\n",
    "else:\n",
    "    print(\"❌ Error saving image!\")"
   ],
   "id": "f8576dd137bd3f65",
   "outputs": [
    {
     "name": "stdout",
     "output_type": "stream",
     "text": [
      "✅ Imagine salvată în ../data/input\\frame_test.jpg\n"
     ]
    }
   ],
   "execution_count": 320
  },
  {
   "metadata": {},
   "cell_type": "markdown",
   "source": "# Save Packages:",
   "id": "ad25ce44393fbc2c"
  },
  {
   "metadata": {
    "ExecuteTime": {
     "end_time": "2025-04-24T10:44:20.015913Z",
     "start_time": "2025-04-24T10:44:20.011752Z"
    }
   },
   "cell_type": "code",
   "source": "# !git clone https://github.com/ultralytics/yolov5.git ..\\yolov5",
   "id": "479aaf7ed1ba94f7",
   "outputs": [],
   "execution_count": 321
  },
  {
   "metadata": {
    "ExecuteTime": {
     "end_time": "2025-04-24T10:44:20.050002Z",
     "start_time": "2025-04-24T10:44:20.046830Z"
    }
   },
   "cell_type": "code",
   "source": "# !pip install -r ../yolov5/requirements.txt",
   "id": "b4a4350a127a8ac0",
   "outputs": [],
   "execution_count": 322
  },
  {
   "metadata": {
    "ExecuteTime": {
     "end_time": "2025-04-24T10:44:20.059385Z",
     "start_time": "2025-04-24T10:44:20.056012Z"
    }
   },
   "cell_type": "code",
   "source": "# !mkdir -p weights",
   "id": "f090cc7ee99c3a2b",
   "outputs": [],
   "execution_count": 323
  },
  {
   "metadata": {
    "ExecuteTime": {
     "end_time": "2025-04-24T10:44:20.078114Z",
     "start_time": "2025-04-24T10:44:20.074878Z"
    }
   },
   "cell_type": "code",
   "source": "# !wget -q https://huggingface.co/keremberke/yolov5n-garbage/resolve/main/best.pt -P ../weights/",
   "id": "3a14c97e676c4321",
   "outputs": [],
   "execution_count": 324
  },
  {
   "metadata": {},
   "cell_type": "markdown",
   "source": "# Load weights and model:",
   "id": "f9d2ca97d9f7d675"
  },
  {
   "metadata": {
    "ExecuteTime": {
     "end_time": "2025-04-24T10:44:20.097807Z",
     "start_time": "2025-04-24T10:44:20.094418Z"
    }
   },
   "cell_type": "code",
   "source": [
    "# url = 'https://huggingface.co/keremberke/yolov5n-garbage/resolve/main/best.pt'\n",
    "#\n",
    "# r = requests.get(url)\n",
    "# open('../weights/best.pt', 'wb').write(r.content)\n",
    "#\n",
    "# print(\"✅ weights/best.pt was saved!\")"
   ],
   "id": "cc3290de661e4f05",
   "outputs": [],
   "execution_count": 325
  },
  {
   "metadata": {
    "ExecuteTime": {
     "end_time": "2025-04-24T10:44:20.389230Z",
     "start_time": "2025-04-24T10:44:20.120887Z"
    }
   },
   "cell_type": "code",
   "source": [
    "sys.path.insert(0, '../yolov5')\n",
    "\n",
    "model = torch.hub.load(\n",
    "    r'../yolov5',\n",
    "    'custom',\n",
    "    path='../weights/best.pt',\n",
    "    source='local',\n",
    "    force_reload=False\n",
    ")"
   ],
   "id": "3dc98c5472d41bfd",
   "outputs": [
    {
     "name": "stderr",
     "output_type": "stream",
     "text": [
      "YOLOv5  v7.0-416-gfe1d4d99 Python-3.11.4 torch-2.6.0+cpu CPU\n",
      "\n",
      "Fusing layers... \n",
      "Model summary: 157 layers, 1767283 parameters, 0 gradients, 4.2 GFLOPs\n",
      "Adding AutoShape... \n"
     ]
    }
   ],
   "execution_count": 326
  },
  {
   "metadata": {},
   "cell_type": "markdown",
   "source": "# Read Predict Picture:",
   "id": "9d277e2e0029df2d"
  },
  {
   "metadata": {
    "ExecuteTime": {
     "end_time": "2025-04-24T10:44:20.412985Z",
     "start_time": "2025-04-24T10:44:20.403737Z"
    }
   },
   "cell_type": "code",
   "source": [
    "input_img_path = \"../data/input/frame_test.jpg\"\n",
    "\n",
    "img_bgr = cv2.imread(input_img_path, cv2.IMREAD_COLOR)\n",
    "img_rgb = cv2.cvtColor(img_bgr, cv2.COLOR_BGR2RGB)      # Convert BGR -> RGB"
   ],
   "id": "bde09a47bc3e5057",
   "outputs": [],
   "execution_count": 327
  },
  {
   "metadata": {},
   "cell_type": "markdown",
   "source": "# Predict Model:",
   "id": "10b869c2dea1855a"
  },
  {
   "metadata": {
    "ExecuteTime": {
     "end_time": "2025-04-24T10:44:20.506122Z",
     "start_time": "2025-04-24T10:44:20.432320Z"
    }
   },
   "cell_type": "code",
   "source": [
    "predict_model = model(img_rgb)\n",
    "df = predict_model.pandas().xyxy[0]\n",
    "\n",
    "if df.empty:\n",
    "    label = 'unknown'\n",
    "else:\n",
    "    top    = df.iloc[df['confidence'].idxmax()]\n",
    "    label  = top['name']\n",
    "\n",
    "print(\"🔖 Predicted label:\", label)"
   ],
   "id": "7a08f28672dedc89",
   "outputs": [
    {
     "name": "stderr",
     "output_type": "stream",
     "text": [
      "C:\\Users\\Darius\\PycharmProjects\\garbage_sort\\notebooks\\../yolov5\\models\\common.py:906: FutureWarning: `torch.cuda.amp.autocast(args...)` is deprecated. Please use `torch.amp.autocast('cuda', args...)` instead.\n",
      "  with amp.autocast(autocast):\n"
     ]
    },
    {
     "name": "stdout",
     "output_type": "stream",
     "text": [
      "🔖 Predicted label: plastic\n"
     ]
    }
   ],
   "execution_count": 328
  },
  {
   "metadata": {},
   "cell_type": "markdown",
   "source": "# Save predict in jpg format:",
   "id": "ce509dc2a9614555"
  },
  {
   "metadata": {
    "ExecuteTime": {
     "end_time": "2025-04-24T10:44:20.539416Z",
     "start_time": "2025-04-24T10:44:20.523487Z"
    }
   },
   "cell_type": "code",
   "source": [
    "output_img_path = '../data/output/predict_test.jpg'\n",
    "\n",
    "annotated = predict_model.render()[0]\n",
    "predict_img = cv2.imwrite(output_img_path, annotated)\n",
    "\n",
    "if not predict_img:\n",
    "    raise RuntimeError(f\"Error Save image to {output_img_path}\")\n",
    "print(f\"✅ Result saved in: {output_img_path}\")"
   ],
   "id": "45a869a6b790933f",
   "outputs": [
    {
     "name": "stdout",
     "output_type": "stream",
     "text": [
      "✅ Result saved in: ../data/output/predict_test.jpg\n"
     ]
    }
   ],
   "execution_count": 329
  }
 ],
 "metadata": {
  "kernelspec": {
   "display_name": "Python 3",
   "language": "python",
   "name": "python3"
  },
  "language_info": {
   "codemirror_mode": {
    "name": "ipython",
    "version": 2
   },
   "file_extension": ".py",
   "mimetype": "text/x-python",
   "name": "python",
   "nbconvert_exporter": "python",
   "pygments_lexer": "ipython2",
   "version": "2.7.6"
  }
 },
 "nbformat": 4,
 "nbformat_minor": 5
}
