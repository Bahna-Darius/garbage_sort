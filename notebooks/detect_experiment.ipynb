{
 "cells": [
  {
   "metadata": {},
   "cell_type": "markdown",
   "source": "# Import Libraries:",
   "id": "6b95daae3b3875cf"
  },
  {
   "cell_type": "code",
   "id": "initial_id",
   "metadata": {
    "collapsed": true,
    "ExecuteTime": {
     "end_time": "2025-04-23T11:33:37.332554Z",
     "start_time": "2025-04-23T11:33:37.327898Z"
    }
   },
   "source": [
    "from matplotlib import pyplot as plt\n",
    "import cv2\n",
    "import yolov5"
   ],
   "outputs": [],
   "execution_count": 17
  },
  {
   "metadata": {},
   "cell_type": "markdown",
   "source": "# Config Camera:",
   "id": "fe5c76278e5c885"
  },
  {
   "metadata": {
    "ExecuteTime": {
     "end_time": "2025-04-23T11:11:59.240947Z",
     "start_time": "2025-04-23T11:11:58.295959Z"
    }
   },
   "cell_type": "code",
   "source": [
    "cap = cv2.VideoCapture(0, cv2.CAP_DSHOW)\n",
    "\n",
    "for _ in range(1):\n",
    "    ret, frame = cap.read()\n",
    "\n",
    "cap.release()\n",
    "\n",
    "frame_rgb = cv2.cvtColor(frame, cv2.COLOR_BGR2RGB)"
   ],
   "id": "e47af6f1b5c80a0f",
   "outputs": [],
   "execution_count": 14
  },
  {
   "metadata": {
    "ExecuteTime": {
     "end_time": "2025-04-23T11:14:39.146131Z",
     "start_time": "2025-04-23T11:14:39.137999Z"
    }
   },
   "cell_type": "code",
   "source": [
    "plt.imshow(frame_rgb)\n",
    "plt.axis('off')\n",
    "plt.show()"
   ],
   "id": "1c2e8a9df3c71250",
   "outputs": [],
   "execution_count": 16
  },
  {
   "metadata": {},
   "cell_type": "code",
   "outputs": [],
   "execution_count": null,
   "source": "\n",
   "id": "321e2eeaf9fad725"
  },
  {
   "metadata": {},
   "cell_type": "code",
   "outputs": [],
   "execution_count": null,
   "source": "",
   "id": "479aaf7ed1ba94f7"
  }
 ],
 "metadata": {
  "kernelspec": {
   "display_name": "Python 3",
   "language": "python",
   "name": "python3"
  },
  "language_info": {
   "codemirror_mode": {
    "name": "ipython",
    "version": 2
   },
   "file_extension": ".py",
   "mimetype": "text/x-python",
   "name": "python",
   "nbconvert_exporter": "python",
   "pygments_lexer": "ipython2",
   "version": "2.7.6"
  }
 },
 "nbformat": 4,
 "nbformat_minor": 5
}
